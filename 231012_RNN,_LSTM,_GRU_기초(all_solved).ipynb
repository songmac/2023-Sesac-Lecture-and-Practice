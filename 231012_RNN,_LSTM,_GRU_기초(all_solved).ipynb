{
  "nbformat": 4,
  "nbformat_minor": 0,
  "metadata": {
    "colab": {
      "provenance": [],
      "authorship_tag": "ABX9TyOI64/4rH2uYRwDbgo7czAk",
      "include_colab_link": true
    },
    "kernelspec": {
      "name": "python3",
      "display_name": "Python 3"
    },
    "language_info": {
      "name": "python"
    }
  },
  "cells": [
    {
      "cell_type": "markdown",
      "metadata": {
        "id": "view-in-github",
        "colab_type": "text"
      },
      "source": [
        "<a href=\"https://colab.research.google.com/github/songmac/2023-Sesac-Lecture-and-Project/blob/master/231012_RNN%2C_LSTM%2C_GRU_%EA%B8%B0%EC%B4%88(all_solved).ipynb\" target=\"_parent\"><img src=\"https://colab.research.google.com/assets/colab-badge.svg\" alt=\"Open In Colab\"/></a>"
      ]
    },
    {
      "cell_type": "markdown",
      "source": [
        "# RNN"
      ],
      "metadata": {
        "id": "u60Qke1tz1t0"
      }
    },
    {
      "cell_type": "markdown",
      "source": [
        "## RNN에서 중요한 파라미터인 return_sequences와 return_state에 대해 알아보자. (default = False)\n",
        "\n",
        "- return_sequences: hidden state 모두 표시할지\n",
        "- return_state: last_state 결과 값도 함께 표시할 건지"
      ],
      "metadata": {
        "id": "eTb_l7YYgps3"
      }
    },
    {
      "cell_type": "code",
      "execution_count": 2,
      "metadata": {
        "colab": {
          "base_uri": "https://localhost:8080/"
        },
        "id": "laJkkqYve3YH",
        "outputId": "c3ce8526-6c53-44fc-f0bf-9cbb72ba3352"
      },
      "outputs": [
        {
          "output_type": "stream",
          "name": "stdout",
          "text": [
            "(4, 5)\n"
          ]
        }
      ],
      "source": [
        "import numpy as np\n",
        "import tensorflow as tf\n",
        "from tensorflow import keras\n",
        "from tensorflow.keras import layers\n",
        "\n",
        "train_X = [[1,2,3,4,5],\n",
        "           [7,1,3,5,9],\n",
        "           [3,2,17,12,11],\n",
        "           [20,25,34,40,51],\n",
        "           ]\n",
        "\n",
        "print(np.shape(train_X))"
      ]
    },
    {
      "cell_type": "code",
      "source": [
        "train_X = np.array(train_X, dtype=np.float32)  #array 형태로 변경\n",
        "print(train_X.shape)"
      ],
      "metadata": {
        "colab": {
          "base_uri": "https://localhost:8080/"
        },
        "id": "LSq4pTQQfokJ",
        "outputId": "60021a99-9fba-4646-8543-dcd23abbd7ed"
      },
      "execution_count": 3,
      "outputs": [
        {
          "output_type": "stream",
          "name": "stdout",
          "text": [
            "(4, 5)\n"
          ]
        }
      ]
    },
    {
      "cell_type": "code",
      "source": [
        "train_X = np.array([train_X], dtype=np.float32)  #3차원 tensor 값으로 변경\n",
        "print(train_X.shape)"
      ],
      "metadata": {
        "colab": {
          "base_uri": "https://localhost:8080/"
        },
        "id": "m_s2vIRDgE4n",
        "outputId": "2156a415-c486-4cc7-8f4f-ce8c2fa91e7b"
      },
      "execution_count": 4,
      "outputs": [
        {
          "output_type": "stream",
          "name": "stdout",
          "text": [
            "(1, 4, 5)\n"
          ]
        }
      ]
    },
    {
      "cell_type": "markdown",
      "source": [
        "### return_sequences = True, return_state = False"
      ],
      "metadata": {
        "id": "Kq5mUgVjhwYg"
      }
    },
    {
      "cell_type": "code",
      "source": [
        "hidden_size = 3\n",
        "cell = layers.SimpleRNNCell(units = hidden_size) #hidden_state 차원수\n",
        "rnn = layers.RNN(cell, return_sequences=True, return_state=False) #simpleRNNcell 선언\n",
        "hidden_state = rnn(train_X)\n",
        "\n",
        "# print('train_X : {} \\t shape : {}'.format(train_X, train_X.shape))\n",
        "print('hidden_state : {} \\t shape : {}'.format(hidden_state, hidden_state.shape))\n",
        "#tensor (1,3) 출력\n",
        "#모든 시점의 hidden state이다."
      ],
      "metadata": {
        "colab": {
          "base_uri": "https://localhost:8080/"
        },
        "id": "E3pFYe29gZI4",
        "outputId": "a29f29e9-e50c-43fd-9be0-8d7de58ea134"
      },
      "execution_count": 6,
      "outputs": [
        {
          "output_type": "stream",
          "name": "stdout",
          "text": [
            "hidden_state : [[[ 0.9757288  -0.770438   -0.99918896]\n",
            "  [ 0.9040556  -0.9999865  -0.99999976]\n",
            "  [ 0.99782825 -1.         -1.        ]\n",
            "  [ 1.         -1.         -1.        ]]] \t shape : (1, 4, 3)\n"
          ]
        }
      ]
    },
    {
      "cell_type": "markdown",
      "source": [
        "### return_sequences = False, return_state = False"
      ],
      "metadata": {
        "id": "Zr7lJC_migMh"
      }
    },
    {
      "cell_type": "code",
      "source": [
        "hidden_size = 3\n",
        "cell = layers.SimpleRNNCell(units = hidden_size)\n",
        "rnn = layers.RNN(cell, return_sequences=False, return_state=False)\n",
        "hidden_state = rnn(train_X)\n",
        "\n",
        "# print('train_X : {} \\t shape : {}'.format(train_X, train_X.shape))\n",
        "print('hidden_state : {} \\t shape : {}'.format(hidden_state, hidden_state.shape))\n",
        "#tensor (1,3) 출력\n",
        "#마지막 시점의 hidden state이다. #계산할 때마다 값이 달라짐"
      ],
      "metadata": {
        "colab": {
          "base_uri": "https://localhost:8080/"
        },
        "id": "IQOMoq_OiV7T",
        "outputId": "151b902d-7f17-4ed7-8506-738da0e61adc"
      },
      "execution_count": 7,
      "outputs": [
        {
          "output_type": "stream",
          "name": "stdout",
          "text": [
            "hidden_state : [[-1. -1.  1.]] \t shape : (1, 3)\n"
          ]
        }
      ]
    },
    {
      "cell_type": "markdown",
      "source": [
        "### return_sequences = Ture, return_state = True"
      ],
      "metadata": {
        "id": "SmXUNUL0j9zL"
      }
    },
    {
      "cell_type": "code",
      "source": [
        "hidden_size = 3\n",
        "cell = layers.SimpleRNNCell(units = hidden_size)\n",
        "rnn = layers.RNN(cell, return_sequences=True, return_state=True)\n",
        "hidden_state, last_state = rnn(train_X) #마지막 cell 계산 정보(값)도 함께 출력\n",
        "\n",
        "# print('train_X : {} \\t shape : {}'.format(train_X, train_X.shape))\n",
        "print('hidden_state : {} \\t shape : {}'.format(hidden_state, hidden_state.shape))\n",
        "print('last_state : {} \\t shape : {}'.format(last_state, last_state.shape))\n",
        "#tensor (1,3) 출력\n",
        "#모든 시점의 hidden state이다."
      ],
      "metadata": {
        "colab": {
          "base_uri": "https://localhost:8080/"
        },
        "id": "34BcouqZj-Fz",
        "outputId": "92c83f53-180e-46ef-8ad8-d873fdc9615b"
      },
      "execution_count": 12,
      "outputs": [
        {
          "output_type": "stream",
          "name": "stdout",
          "text": [
            "hidden_state : [[[ 0.9972939   0.98473155 -0.14765674]\n",
            "  [ 0.998511   -0.6208585   0.99894214]\n",
            "  [ 0.99930507 -0.9995934  -0.9991765 ]\n",
            "  [ 1.          1.         -0.99999905]]] \t shape : (1, 4, 3)\n",
            "last_state : [[ 1.          1.         -0.99999905]] \t shape : (1, 3)\n"
          ]
        }
      ]
    },
    {
      "cell_type": "markdown",
      "source": [
        "### return_sequences = False, return_state = True"
      ],
      "metadata": {
        "id": "xm4oPLj_ivJs"
      }
    },
    {
      "cell_type": "code",
      "source": [
        "hidden_size = 3\n",
        "cell = layers.SimpleRNNCell(units = hidden_size)\n",
        "rnn = layers.RNN(cell, return_sequences=False, return_state=True)\n",
        "hidden_state, last_state = rnn(train_X)\n",
        "\n",
        "# print('train_X : {} \\t shape : {}'.format(train_X, train_X.shape))\n",
        "print('hidden_state : {} \\t shape : {}'.format(hidden_state, hidden_state.shape))\n",
        "print('last_state : {} \\t shape : {}'.format(last_state, last_state.shape))\n",
        "#tensor (1,3) 출력\n",
        "#마지막 시점의 hidden state이다. #계산할 때마다 값이 달라짐"
      ],
      "metadata": {
        "colab": {
          "base_uri": "https://localhost:8080/"
        },
        "id": "8Dl-YjzNiql6",
        "outputId": "83c1c047-4f30-4de7-ffc7-91f40a30030b"
      },
      "execution_count": 11,
      "outputs": [
        {
          "output_type": "stream",
          "name": "stdout",
          "text": [
            "hidden_state : [[ 1.         -0.9999983   0.97233385]] \t shape : (1, 3)\n",
            "last_state : [[ 1.         -0.9999983   0.97233385]] \t shape : (1, 3)\n"
          ]
        }
      ]
    },
    {
      "cell_type": "markdown",
      "source": [
        "## '토마토를 먹자'를 학습해보자!"
      ],
      "metadata": {
        "id": "_n-DQdSqlA25"
      }
    },
    {
      "cell_type": "code",
      "source": [
        "import numpy as np\n",
        "import tensorflow as tf\n",
        "from tensorflow.keras.models import Sequential\n",
        "from tensorflow.keras.layers import SimpleRNNCell, Dense, TimeDistributed, RNN\n",
        "\n",
        "idx2char = ['토', '마', '를', '먹', '자'] #한글은 학습시킬 수 없기 때문에 글자별로 숫자 변환 후 학습\n",
        "\n",
        "x_data = [[0, 0, 1, 2, 4, 3]] #토 토 마 를 자 먹\n",
        "y_data = [[0, 1, 0, 2, 3, 4]] #토 마 토 를 먹 자\n",
        "\n",
        "num_classes = 5 #토큰의 개수\n",
        "input_dim = 5\n",
        "sequence_len = 6 #len(x_data)\n",
        "learning_rate = 0.1"
      ],
      "metadata": {
        "id": "RVaaDXEljDH5"
      },
      "execution_count": 13,
      "outputs": []
    },
    {
      "cell_type": "markdown",
      "source": [
        "### 데이터 변환 - 원핫인코딩"
      ],
      "metadata": {
        "id": "q-gOxeF0m8XO"
      }
    },
    {
      "cell_type": "code",
      "source": [
        "x_one_hot = tf.keras.utils.to_categorical(x_data, num_classes=num_classes)\n",
        "y_one_hot = tf.keras.utils.to_categorical(y_data, num_classes=num_classes)"
      ],
      "metadata": {
        "id": "HH-ZCnoAl_87"
      },
      "execution_count": 21,
      "outputs": []
    },
    {
      "cell_type": "code",
      "source": [
        "x_one_hot #토 토 마 를 자 먹"
      ],
      "metadata": {
        "colab": {
          "base_uri": "https://localhost:8080/"
        },
        "id": "FSlQbpZanODi",
        "outputId": "ddbbf74c-98c9-49bb-f092-78a7206c2b04"
      },
      "execution_count": 22,
      "outputs": [
        {
          "output_type": "execute_result",
          "data": {
            "text/plain": [
              "array([[[1., 0., 0., 0., 0.],\n",
              "        [1., 0., 0., 0., 0.],\n",
              "        [0., 1., 0., 0., 0.],\n",
              "        [0., 0., 1., 0., 0.],\n",
              "        [0., 0., 0., 0., 1.],\n",
              "        [0., 0., 0., 1., 0.]]], dtype=float32)"
            ]
          },
          "metadata": {},
          "execution_count": 22
        }
      ]
    },
    {
      "cell_type": "code",
      "source": [
        "y_one_hot #토 마 토 를 먹 자"
      ],
      "metadata": {
        "colab": {
          "base_uri": "https://localhost:8080/"
        },
        "id": "psNwiuXlnPKR",
        "outputId": "253cd764-292d-4c2a-fb2e-81cc01bd3be3"
      },
      "execution_count": 23,
      "outputs": [
        {
          "output_type": "execute_result",
          "data": {
            "text/plain": [
              "array([[[1., 0., 0., 0., 0.],\n",
              "        [0., 1., 0., 0., 0.],\n",
              "        [1., 0., 0., 0., 0.],\n",
              "        [0., 0., 1., 0., 0.],\n",
              "        [0., 0., 0., 1., 0.],\n",
              "        [0., 0., 0., 0., 1.]]], dtype=float32)"
            ]
          },
          "metadata": {},
          "execution_count": 23
        }
      ]
    },
    {
      "cell_type": "code",
      "source": [
        "x_one_hot.shape #이미 3차원 (시퀀스 수, 시퀀스 길이, dim_size(input_dim))"
      ],
      "metadata": {
        "colab": {
          "base_uri": "https://localhost:8080/"
        },
        "id": "S4s3I1odnZGS",
        "outputId": "cd3490f2-17bf-4e40-b7d5-07baf75e39bb"
      },
      "execution_count": 19,
      "outputs": [
        {
          "output_type": "execute_result",
          "data": {
            "text/plain": [
              "(1, 6, 5)"
            ]
          },
          "metadata": {},
          "execution_count": 19
        }
      ]
    },
    {
      "cell_type": "code",
      "source": [
        "y_one_hot"
      ],
      "metadata": {
        "colab": {
          "base_uri": "https://localhost:8080/"
        },
        "id": "cPoS0COanplT",
        "outputId": "8a0524a1-0ca7-46b5-c30a-41c0a043cf95"
      },
      "execution_count": 24,
      "outputs": [
        {
          "output_type": "execute_result",
          "data": {
            "text/plain": [
              "array([[[1., 0., 0., 0., 0.],\n",
              "        [0., 1., 0., 0., 0.],\n",
              "        [1., 0., 0., 0., 0.],\n",
              "        [0., 0., 1., 0., 0.],\n",
              "        [0., 0., 0., 1., 0.],\n",
              "        [0., 0., 0., 0., 1.]]], dtype=float32)"
            ]
          },
          "metadata": {},
          "execution_count": 24
        }
      ]
    },
    {
      "cell_type": "code",
      "source": [
        "model = Sequential()\n",
        "cell = SimpleRNNCell(units=num_classes, input_shape=(sequence_len, input_dim))\n",
        "\n",
        "model.add(RNN(cell=cell,\n",
        "              return_sequences=True,\n",
        "              return_state=False,\n",
        "              input_shape = (sequence_len, input_dim)))\n",
        "model.add(TimeDistributed(Dense(units=num_classes, activation='softmax')))\n",
        "\n",
        "model.compile(loss='categorical_crossentropy',\n",
        "              optimizer=tf.keras.optimizers.Adam(learning_rate=learning_rate),\n",
        "              metrics=['accuracy'])\n",
        "\n",
        "model.summary()"
      ],
      "metadata": {
        "colab": {
          "base_uri": "https://localhost:8080/"
        },
        "id": "TiltgeAjny6-",
        "outputId": "af0dc9d4-e7bf-4d54-f856-93065a2c69c4"
      },
      "execution_count": 27,
      "outputs": [
        {
          "output_type": "stream",
          "name": "stdout",
          "text": [
            "Model: \"sequential_2\"\n",
            "_________________________________________________________________\n",
            " Layer (type)                Output Shape              Param #   \n",
            "=================================================================\n",
            " rnn_10 (RNN)                (None, 6, 5)              55        \n",
            "                                                                 \n",
            " time_distributed (TimeDist  (None, 6, 5)              30        \n",
            " ributed)                                                        \n",
            "                                                                 \n",
            "=================================================================\n",
            "Total params: 85 (340.00 Byte)\n",
            "Trainable params: 85 (340.00 Byte)\n",
            "Non-trainable params: 0 (0.00 Byte)\n",
            "_________________________________________________________________\n"
          ]
        }
      ]
    },
    {
      "cell_type": "code",
      "source": [
        "model.fit(x_one_hot, y_one_hot, epochs=10)"
      ],
      "metadata": {
        "colab": {
          "base_uri": "https://localhost:8080/"
        },
        "id": "pFbPb8RkpV_t",
        "outputId": "a4f36ff1-98e2-4bfe-c04c-182e5392ea32"
      },
      "execution_count": 28,
      "outputs": [
        {
          "output_type": "stream",
          "name": "stdout",
          "text": [
            "Epoch 1/10\n",
            "1/1 [==============================] - 1s 1s/step - loss: 2.2340 - accuracy: 0.0000e+00\n",
            "Epoch 2/10\n",
            "1/1 [==============================] - 0s 13ms/step - loss: 1.6710 - accuracy: 0.3333\n",
            "Epoch 3/10\n",
            "1/1 [==============================] - 0s 13ms/step - loss: 1.3681 - accuracy: 0.6667\n",
            "Epoch 4/10\n",
            "1/1 [==============================] - 0s 13ms/step - loss: 1.1462 - accuracy: 0.8333\n",
            "Epoch 5/10\n",
            "1/1 [==============================] - 0s 11ms/step - loss: 0.9632 - accuracy: 0.8333\n",
            "Epoch 6/10\n",
            "1/1 [==============================] - 0s 13ms/step - loss: 0.8160 - accuracy: 0.8333\n",
            "Epoch 7/10\n",
            "1/1 [==============================] - 0s 13ms/step - loss: 0.7051 - accuracy: 0.6667\n",
            "Epoch 8/10\n",
            "1/1 [==============================] - 0s 15ms/step - loss: 0.6216 - accuracy: 0.6667\n",
            "Epoch 9/10\n",
            "1/1 [==============================] - 0s 20ms/step - loss: 0.5505 - accuracy: 0.8333\n",
            "Epoch 10/10\n",
            "1/1 [==============================] - 0s 12ms/step - loss: 0.4840 - accuracy: 1.0000\n"
          ]
        },
        {
          "output_type": "execute_result",
          "data": {
            "text/plain": [
              "<keras.src.callbacks.History at 0x7df5bcd6e320>"
            ]
          },
          "metadata": {},
          "execution_count": 28
        }
      ]
    },
    {
      "cell_type": "code",
      "source": [
        "pred = model.predict(x_one_hot)\n",
        "pred #softmax에서 그 글자가 나올 확률이 가장 큰 것을 확인해야 함"
      ],
      "metadata": {
        "colab": {
          "base_uri": "https://localhost:8080/"
        },
        "id": "7OigCAl1pwwz",
        "outputId": "3565e9e6-ff0e-440a-90c1-6f67bce12472"
      },
      "execution_count": 30,
      "outputs": [
        {
          "output_type": "stream",
          "name": "stdout",
          "text": [
            "1/1 [==============================] - 0s 34ms/step\n"
          ]
        },
        {
          "output_type": "execute_result",
          "data": {
            "text/plain": [
              "array([[[0.66270363, 0.07281416, 0.00213777, 0.24711499, 0.0152295 ],\n",
              "        [0.09171669, 0.52472925, 0.02222828, 0.00754518, 0.3537807 ],\n",
              "        [0.73370415, 0.02855024, 0.01776904, 0.21339998, 0.00657666],\n",
              "        [0.01268191, 0.01237652, 0.9255967 , 0.00560303, 0.04374183],\n",
              "        [0.3319473 , 0.00435913, 0.0118718 , 0.6501052 , 0.00171658],\n",
              "        [0.04326791, 0.41054457, 0.02310286, 0.00389941, 0.51918525]]],\n",
              "      dtype=float32)"
            ]
          },
          "metadata": {},
          "execution_count": 30
        }
      ]
    },
    {
      "cell_type": "code",
      "source": [
        "for i, word in enumerate(pred):\n",
        "  print(\" \".join([idx2char[c] for c in np.argmax(word, axis=1)])) #argmax : 그 중 가장 큰 값 출력"
      ],
      "metadata": {
        "colab": {
          "base_uri": "https://localhost:8080/"
        },
        "id": "7YN0cLlzp08K",
        "outputId": "86e296eb-4d6d-4274-86e7-52372581ac8b"
      },
      "execution_count": 31,
      "outputs": [
        {
          "output_type": "stream",
          "name": "stdout",
          "text": [
            "토 마 토 를 먹 자\n"
          ]
        }
      ]
    },
    {
      "cell_type": "markdown",
      "source": [
        "# LSTM"
      ],
      "metadata": {
        "id": "weSH1zEtz6_x"
      }
    },
    {
      "cell_type": "markdown",
      "source": [
        "### return_sequence=False, return_state=True"
      ],
      "metadata": {
        "id": "PUF9evaB1xy3"
      }
    },
    {
      "cell_type": "code",
      "source": [
        "from keras.layers import LSTM\n",
        "\n",
        "#우선 hidden_size는 임의로 3으로 정한다.\n",
        "hidden_size = 3\n",
        "lstm = LSTM(units=hidden_size, return_sequences=False, return_state=True)\n",
        "hidden_state, last_state, last_cell_state= lstm(train_X)\n",
        "\n",
        "# print('train_X : {} \\t shape : {}'.format(train_X, train_X.shape))\n",
        "print('hidden_state : {} \\t shape : {}'.format(hidden_state, hidden_state.shape))\n",
        "print('last_state : {} \\t shape : {}'.format(last_state, last_state.shape))\n",
        "print('last_cell_state : {} \\t shape : {}'.format(last_cell_state, last_cell_state.shape))\n",
        "#return_sequence가 False 일때는 마지막 hidden_state가 출력되므로\n",
        "#hidden_state = last_cell_state의 결과값이 같다\n",
        "#RNN과 LSTM의 차이점은 LSTM의 경우 return_state = True인 경우 last_cell_state까지 출력해준다는 것이 다르다"
      ],
      "metadata": {
        "colab": {
          "base_uri": "https://localhost:8080/"
        },
        "id": "CW4dXKbCz8xO",
        "outputId": "ad250c77-55ee-40a2-bf98-4986c7960fc7"
      },
      "execution_count": 32,
      "outputs": [
        {
          "output_type": "stream",
          "name": "stdout",
          "text": [
            "hidden_state : [[-8.8054786e-04  1.0151130e-15  3.0866936e-01]] \t shape : (1, 3)\n",
            "last_state : [[-8.8054786e-04  1.0151130e-15  3.0866936e-01]] \t shape : (1, 3)\n",
            "last_cell_state : [[-1.          0.01850728  0.3239956 ]] \t shape : (1, 3)\n"
          ]
        }
      ]
    },
    {
      "cell_type": "markdown",
      "source": [
        "### return_sequence=True, return_state=True"
      ],
      "metadata": {
        "id": "lVEvRuvQ16Hm"
      }
    },
    {
      "cell_type": "code",
      "source": [
        "from keras.layers import LSTM\n",
        "\n",
        "#우선 hidden_size는 임의로 3으로 정한다.\n",
        "hidden_size = 3\n",
        "lstm = LSTM(units=hidden_size, return_sequences=True, return_state=True)\n",
        "hidden_state, last_state, last_cell_state= lstm(train_X)\n",
        "\n",
        "# print('train_X : {} \\t shape : {}'.format(train_X, train_X.shape))\n",
        "print('hidden_state : {} \\t shape : {}'.format(hidden_state, hidden_state.shape))\n",
        "print('last_state : {} \\t shape : {}'.format(last_state, last_state.shape))\n",
        "print('last_cell_state : {} \\t shape : {}'.format(last_cell_state, last_cell_state.shape))\n",
        "#return_sequence가 False 일때는 마지막 hidden_state가 출력되므로\n",
        "#hidden_state = last_cell_state의 결과값이 같다\n",
        "#RNN과 LSTM의 차이점은 LSTM의 경우 return_state = True인 경우 last_cell_state까지 출력해준다는 것이 다르다"
      ],
      "metadata": {
        "colab": {
          "base_uri": "https://localhost:8080/"
        },
        "id": "WopkZSSk1vil",
        "outputId": "996fcbc1-927b-42e5-cf66-55f4fcddcae2"
      },
      "execution_count": 34,
      "outputs": [
        {
          "output_type": "stream",
          "name": "stdout",
          "text": [
            "hidden_state : [[[ 2.0683242e-01 -2.6686648e-01  3.5537310e-02]\n",
            "  [-5.1455015e-01 -2.1006253e-03  1.1592678e-01]\n",
            "  [ 7.5408965e-01 -4.2664301e-01  8.1509803e-05]\n",
            "  [-7.5414830e-01 -1.4390316e-02  2.5813002e-08]]] \t shape : (1, 4, 3)\n",
            "last_state : [[-7.5414830e-01 -1.4390316e-02  2.5813002e-08]] \t shape : (1, 3)\n",
            "last_cell_state : [[-9.8250484e-01 -1.8275588e+00  2.3699847e-06]] \t shape : (1, 3)\n"
          ]
        }
      ]
    },
    {
      "cell_type": "markdown",
      "source": [
        "## 토마토를 먹어보자!!!"
      ],
      "metadata": {
        "id": "iBDZpVGl2Z8T"
      }
    },
    {
      "cell_type": "code",
      "source": [
        "#데이터 정리\n",
        "import numpy as np\n",
        "import tensorflow as tf\n",
        "from collections.abc import Sequence\n",
        "\n",
        "idx2char = ['토', '마', '를', '먹', '자'] #한글은 학습시킬 수 없기 때문에 글자별로 숫자 변환 후 학습\n",
        "\n",
        "x_data = [[0, 0, 1, 2, 4, 3]] #토 토 마 를 자 먹\n",
        "y_data = [[0, 1, 0, 2, 3, 4]] #토 마 토 를 먹 자\n",
        "\n",
        "num_classes = 5 #토큰의 개수\n",
        "input_dim = 5\n",
        "sequence_len = 6 #len(x_data)\n",
        "learning_rate = 0.1\n",
        "\n",
        "x_one_hot = tf.keras.utils.to_categorical(x_data, num_classes=num_classes)\n",
        "y_one_hot = tf.keras.utils.to_categorical(y_data, num_classes=num_classes)"
      ],
      "metadata": {
        "id": "LWOYd8Ok1-lj"
      },
      "execution_count": 55,
      "outputs": []
    },
    {
      "cell_type": "code",
      "source": [
        "from keras.layers import LSTM\n",
        "\n",
        "model = Sequential()\n",
        "\n",
        "model.add(LSTM(units=num_classes,\n",
        "              return_sequences=True,\n",
        "              input_shape = (sequence_len, input_dim), activation='tanh'))\n",
        "model.add(Dense(32, activation='relu'))\n",
        "model.add(Dense(units=num_classes, activation='softmax'))\n",
        "\n",
        "model.compile(loss='categorical_crossentropy',\n",
        "              optimizer=tf.keras.optimizers.Adam(learning_rate=learning_rate),\n",
        "              metrics=['accuracy'])\n",
        "\n",
        "model.summary()"
      ],
      "metadata": {
        "colab": {
          "base_uri": "https://localhost:8080/"
        },
        "id": "5CikhNAK2kG5",
        "outputId": "1b855aa5-7964-45fe-cc54-4f2e3d943f3c"
      },
      "execution_count": 56,
      "outputs": [
        {
          "output_type": "stream",
          "name": "stdout",
          "text": [
            "Model: \"sequential_8\"\n",
            "_________________________________________________________________\n",
            " Layer (type)                Output Shape              Param #   \n",
            "=================================================================\n",
            " lstm_6 (LSTM)               (None, 6, 5)              220       \n",
            "                                                                 \n",
            " dense_9 (Dense)             (None, 6, 32)             192       \n",
            "                                                                 \n",
            " dense_10 (Dense)            (None, 6, 5)              165       \n",
            "                                                                 \n",
            "=================================================================\n",
            "Total params: 577 (2.25 KB)\n",
            "Trainable params: 577 (2.25 KB)\n",
            "Non-trainable params: 0 (0.00 Byte)\n",
            "_________________________________________________________________\n"
          ]
        }
      ]
    },
    {
      "cell_type": "code",
      "source": [
        "model.fit(x_one_hot, y_one_hot, epochs=10)"
      ],
      "metadata": {
        "colab": {
          "base_uri": "https://localhost:8080/"
        },
        "id": "buY-2FzK2rmG",
        "outputId": "762e8522-4cff-4214-8533-6d9554aff66c"
      },
      "execution_count": 57,
      "outputs": [
        {
          "output_type": "stream",
          "name": "stdout",
          "text": [
            "Epoch 1/10\n",
            "1/1 [==============================] - 3s 3s/step - loss: 1.6116 - accuracy: 0.1667\n",
            "Epoch 2/10\n",
            "1/1 [==============================] - 0s 19ms/step - loss: 1.5136 - accuracy: 0.3333\n",
            "Epoch 3/10\n",
            "1/1 [==============================] - 0s 16ms/step - loss: 1.4355 - accuracy: 0.3333\n",
            "Epoch 4/10\n",
            "1/1 [==============================] - 0s 18ms/step - loss: 1.3049 - accuracy: 0.6667\n",
            "Epoch 5/10\n",
            "1/1 [==============================] - 0s 19ms/step - loss: 1.1046 - accuracy: 0.6667\n",
            "Epoch 6/10\n",
            "1/1 [==============================] - 0s 15ms/step - loss: 0.8471 - accuracy: 0.6667\n",
            "Epoch 7/10\n",
            "1/1 [==============================] - 0s 16ms/step - loss: 0.6026 - accuracy: 0.8333\n",
            "Epoch 8/10\n",
            "1/1 [==============================] - 0s 19ms/step - loss: 0.4054 - accuracy: 0.8333\n",
            "Epoch 9/10\n",
            "1/1 [==============================] - 0s 20ms/step - loss: 0.2919 - accuracy: 1.0000\n",
            "Epoch 10/10\n",
            "1/1 [==============================] - 0s 19ms/step - loss: 0.2305 - accuracy: 0.8333\n"
          ]
        },
        {
          "output_type": "execute_result",
          "data": {
            "text/plain": [
              "<keras.src.callbacks.History at 0x7df5bda4de40>"
            ]
          },
          "metadata": {},
          "execution_count": 57
        }
      ]
    },
    {
      "cell_type": "code",
      "source": [
        "pred = model.predict(x_one_hot)\n",
        "pred #softmax에서 그 글자가 나올 확률이 가장 큰 것을 확인해야 함"
      ],
      "metadata": {
        "colab": {
          "base_uri": "https://localhost:8080/"
        },
        "id": "7JL6ODLF2xhF",
        "outputId": "7c5791be-50fa-48ad-b628-e76332f45bbd"
      },
      "execution_count": 58,
      "outputs": [
        {
          "output_type": "stream",
          "name": "stderr",
          "text": [
            "WARNING:tensorflow:6 out of the last 7 calls to <function Model.make_predict_function.<locals>.predict_function at 0x7df5af1cfeb0> triggered tf.function retracing. Tracing is expensive and the excessive number of tracings could be due to (1) creating @tf.function repeatedly in a loop, (2) passing tensors with different shapes, (3) passing Python objects instead of tensors. For (1), please define your @tf.function outside of the loop. For (2), @tf.function has reduce_retracing=True option that can avoid unnecessary retracing. For (3), please refer to https://www.tensorflow.org/guide/function#controlling_retracing and https://www.tensorflow.org/api_docs/python/tf/function for  more details.\n"
          ]
        },
        {
          "output_type": "stream",
          "name": "stdout",
          "text": [
            "1/1 [==============================] - 0s 476ms/step\n"
          ]
        },
        {
          "output_type": "execute_result",
          "data": {
            "text/plain": [
              "array([[[5.9562790e-01, 4.0336114e-01, 3.6712965e-05, 6.5421847e-07,\n",
              "         9.7370730e-04],\n",
              "        [4.1916433e-01, 5.8070105e-01, 3.9237543e-06, 1.3059368e-08,\n",
              "         1.3065859e-04],\n",
              "        [9.8236418e-01, 1.7286567e-02, 4.9848022e-05, 1.7484754e-07,\n",
              "         2.9921479e-04],\n",
              "        [2.6231766e-05, 2.1979199e-06, 9.9509180e-01, 7.3998212e-04,\n",
              "         4.1397261e-03],\n",
              "        [6.2789900e-06, 6.5955980e-08, 3.6092525e-04, 9.9772197e-01,\n",
              "         1.9107234e-03],\n",
              "        [3.6655909e-03, 1.1347920e-03, 6.5774694e-03, 2.0363277e-05,\n",
              "         9.8860174e-01]]], dtype=float32)"
            ]
          },
          "metadata": {},
          "execution_count": 58
        }
      ]
    },
    {
      "cell_type": "code",
      "source": [
        "for i, word in enumerate(pred): #enumerate : 인덱스와 요소를 튜플로 반환\n",
        "  print(\" \".join([idx2char[c] for c in np.argmax(word, axis=1)])) #argmax : 그 중 가장 큰 값 출력"
      ],
      "metadata": {
        "colab": {
          "base_uri": "https://localhost:8080/"
        },
        "id": "wGYj2n-_20sY",
        "outputId": "60ba359a-65ce-49de-b2db-2711083bc472"
      },
      "execution_count": 63,
      "outputs": [
        {
          "output_type": "stream",
          "name": "stdout",
          "text": [
            "토 마 토 를 먹 자\n"
          ]
        }
      ]
    },
    {
      "cell_type": "markdown",
      "source": [
        "# GRU"
      ],
      "metadata": {
        "id": "wmx0fKbX-wne"
      }
    },
    {
      "cell_type": "markdown",
      "source": [
        "### return_sequence=False, return_state=True"
      ],
      "metadata": {
        "id": "zbojUm6fAMea"
      }
    },
    {
      "cell_type": "code",
      "source": [
        "from keras.layers import GRU\n",
        "\n",
        "#우선 hidden_size는 임의로 3으로 정한다.\n",
        "hidden_size = 3\n",
        "gru = GRU(units=hidden_size, return_sequences=False, return_state=True)\n",
        "whole_sequence_output, final_state = gru(train_X)\n",
        "\n",
        "# print('train_X : {} \\t shape : {}'.format(train_X, train_X.shape))\n",
        "print('whole_sequence_output : {} \\t shape : {}'.format(whole_sequence_output, whole_sequence_output.shape))\n",
        "print('final_state : {} \\t shape : {}'.format(final_state, final_state.shape))"
      ],
      "metadata": {
        "colab": {
          "base_uri": "https://localhost:8080/"
        },
        "id": "UWyy-GF6-yWT",
        "outputId": "7ef777d2-900b-498b-daa1-d9f32e4a3c7d"
      },
      "execution_count": 71,
      "outputs": [
        {
          "output_type": "stream",
          "name": "stdout",
          "text": [
            "whole_sequence_output : [[ 0.9780052  -0.7302151  -0.30159402]] \t shape : (1, 3)\n",
            "final_state : [[ 0.9780052  -0.7302151  -0.30159402]] \t shape : (1, 3)\n"
          ]
        }
      ]
    },
    {
      "cell_type": "markdown",
      "source": [
        "## 토마토를 먹어보자!!!!!"
      ],
      "metadata": {
        "id": "UibrdikQASfu"
      }
    },
    {
      "cell_type": "code",
      "source": [
        "#데이터 정리\n",
        "import numpy as np\n",
        "import tensorflow as tf\n",
        "from collections.abc import Sequence\n",
        "\n",
        "idx2char = ['토', '마', '를', '먹', '자'] #한글은 학습시킬 수 없기 때문에 글자별로 숫자 변환 후 학습\n",
        "\n",
        "x_data = [[0, 0, 1, 2, 4, 3]] #토 토 마 를 자 먹\n",
        "y_data = [[0, 1, 0, 2, 3, 4]] #토 마 토 를 먹 자\n",
        "\n",
        "num_classes = 5 #토큰의 개수\n",
        "input_dim = 5\n",
        "sequence_len = 6 #len(x_data)\n",
        "learning_rate = 0.1\n",
        "\n",
        "x_one_hot = tf.keras.utils.to_categorical(x_data, num_classes=num_classes)\n",
        "y_one_hot = tf.keras.utils.to_categorical(y_data, num_classes=num_classes)"
      ],
      "metadata": {
        "id": "CQc3TIZx_Cah"
      },
      "execution_count": 66,
      "outputs": []
    },
    {
      "cell_type": "code",
      "source": [
        "from keras.layers import GRU\n",
        "\n",
        "model = Sequential()\n",
        "\n",
        "model.add(GRU(units=num_classes,\n",
        "              return_sequences=True,\n",
        "              input_shape = (sequence_len, input_dim), activation='tanh'))\n",
        "model.add(Dense(32, activation='relu'))\n",
        "model.add(Dense(units=num_classes, activation='softmax'))\n",
        "\n",
        "model.compile(loss='categorical_crossentropy',\n",
        "              optimizer=tf.keras.optimizers.Adam(learning_rate=learning_rate),\n",
        "              metrics=['accuracy'])\n",
        "\n",
        "model.summary()"
      ],
      "metadata": {
        "colab": {
          "base_uri": "https://localhost:8080/"
        },
        "id": "M3s7KoRQAbon",
        "outputId": "bbb5a2c7-f7f7-45dc-f16a-d80063e92b4e"
      },
      "execution_count": 67,
      "outputs": [
        {
          "output_type": "stream",
          "name": "stdout",
          "text": [
            "Model: \"sequential_9\"\n",
            "_________________________________________________________________\n",
            " Layer (type)                Output Shape              Param #   \n",
            "=================================================================\n",
            " gru_1 (GRU)                 (None, 6, 5)              180       \n",
            "                                                                 \n",
            " dense_11 (Dense)            (None, 6, 32)             192       \n",
            "                                                                 \n",
            " dense_12 (Dense)            (None, 6, 5)              165       \n",
            "                                                                 \n",
            "=================================================================\n",
            "Total params: 537 (2.10 KB)\n",
            "Trainable params: 537 (2.10 KB)\n",
            "Non-trainable params: 0 (0.00 Byte)\n",
            "_________________________________________________________________\n"
          ]
        }
      ]
    },
    {
      "cell_type": "code",
      "source": [
        "model.fit(x_one_hot, y_one_hot, epochs=10)"
      ],
      "metadata": {
        "colab": {
          "base_uri": "https://localhost:8080/"
        },
        "id": "3mdxLTkDAeIB",
        "outputId": "e62325b6-76a1-4928-dc05-c331a5bc5759"
      },
      "execution_count": 68,
      "outputs": [
        {
          "output_type": "stream",
          "name": "stdout",
          "text": [
            "Epoch 1/10\n",
            "1/1 [==============================] - 3s 3s/step - loss: 1.5837 - accuracy: 0.8333\n",
            "Epoch 2/10\n",
            "1/1 [==============================] - 0s 20ms/step - loss: 1.4031 - accuracy: 0.5000\n",
            "Epoch 3/10\n",
            "1/1 [==============================] - 0s 19ms/step - loss: 1.0891 - accuracy: 0.6667\n",
            "Epoch 4/10\n",
            "1/1 [==============================] - 0s 17ms/step - loss: 0.7207 - accuracy: 0.8333\n",
            "Epoch 5/10\n",
            "1/1 [==============================] - 0s 21ms/step - loss: 0.4208 - accuracy: 0.8333\n",
            "Epoch 6/10\n",
            "1/1 [==============================] - 0s 20ms/step - loss: 0.2555 - accuracy: 1.0000\n",
            "Epoch 7/10\n",
            "1/1 [==============================] - 0s 18ms/step - loss: 0.1966 - accuracy: 0.8333\n",
            "Epoch 8/10\n",
            "1/1 [==============================] - 0s 21ms/step - loss: 0.1188 - accuracy: 1.0000\n",
            "Epoch 9/10\n",
            "1/1 [==============================] - 0s 16ms/step - loss: 0.0739 - accuracy: 1.0000\n",
            "Epoch 10/10\n",
            "1/1 [==============================] - 0s 20ms/step - loss: 0.0242 - accuracy: 1.0000\n"
          ]
        },
        {
          "output_type": "execute_result",
          "data": {
            "text/plain": [
              "<keras.src.callbacks.History at 0x7df5bce04220>"
            ]
          },
          "metadata": {},
          "execution_count": 68
        }
      ]
    },
    {
      "cell_type": "code",
      "source": [
        "pred = model.predict(x_one_hot)\n",
        "pred #softmax에서 그 글자가 나올 확률이 가장 큰 것을 확인해야 함"
      ],
      "metadata": {
        "colab": {
          "base_uri": "https://localhost:8080/"
        },
        "id": "t7XfYEG-AgpF",
        "outputId": "62281277-a7d0-418f-9123-b4e05c80778d"
      },
      "execution_count": 69,
      "outputs": [
        {
          "output_type": "stream",
          "name": "stdout",
          "text": [
            "1/1 [==============================] - 0s 475ms/step\n"
          ]
        },
        {
          "output_type": "execute_result",
          "data": {
            "text/plain": [
              "array([[[9.56170082e-01, 4.38085198e-02, 1.26824671e-05, 8.63139576e-06,\n",
              "         6.36264375e-08],\n",
              "        [7.13717937e-03, 9.91853654e-01, 9.87289706e-04, 3.00907823e-06,\n",
              "         1.88845261e-05],\n",
              "        [9.99683380e-01, 3.15327663e-04, 1.30732769e-06, 2.41179841e-08,\n",
              "         4.35543772e-13],\n",
              "        [2.18483329e-08, 6.41604947e-06, 9.99992251e-01, 2.42136231e-08,\n",
              "         1.36901883e-06],\n",
              "        [9.59996882e-08, 5.08317264e-08, 1.00255114e-07, 9.99999404e-01,\n",
              "         3.74943909e-07],\n",
              "        [2.57438038e-12, 2.12871396e-06, 8.42152731e-05, 1.51879433e-07,\n",
              "         9.99913454e-01]]], dtype=float32)"
            ]
          },
          "metadata": {},
          "execution_count": 69
        }
      ]
    },
    {
      "cell_type": "code",
      "source": [
        "for i, word in enumerate(pred): #enumerate : 인덱스와 요소를 튜플로 반환\n",
        "  print(\" \".join([idx2char[c] for c in np.argmax(word, axis=1)])) #argmax : 그 중 가장 큰 값 출력"
      ],
      "metadata": {
        "colab": {
          "base_uri": "https://localhost:8080/"
        },
        "id": "NIEoI-ZDAixq",
        "outputId": "cd29dc07-f190-422d-deef-c926f2826770"
      },
      "execution_count": 70,
      "outputs": [
        {
          "output_type": "stream",
          "name": "stdout",
          "text": [
            "토 마 토 를 먹 자\n"
          ]
        }
      ]
    },
    {
      "cell_type": "code",
      "source": [],
      "metadata": {
        "id": "8aqW0FUyA1co"
      },
      "execution_count": null,
      "outputs": []
    }
  ]
}