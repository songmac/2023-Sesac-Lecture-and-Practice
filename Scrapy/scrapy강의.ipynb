{
 "cells": [
  {
   "cell_type": "markdown",
   "metadata": {},
   "source": [
    "# <스크래피>\n",
    "- 데이터 크롤링 프레임워크\n",
    "- 조금 무거운 편"
   ]
  },
  {
   "cell_type": "markdown",
   "metadata": {},
   "source": [
    "\n",
    "## 1. cmd창에서 설치\n",
    "pip install scrapy\n",
    "pip install scrapyd\n",
    "pip install scrapyd-client\n"
   ]
  },
  {
   "cell_type": "markdown",
   "metadata": {},
   "source": [
    "\n",
    "## 2. cmd에서 scrapy 설치 경로\n",
    "C:\\Users\\User\\scrapy_naver\n"
   ]
  },
  {
   "cell_type": "markdown",
   "metadata": {},
   "source": [
    "\n",
    "## 3. 내컴퓨터 -> 속성 -> 고급시스템설정 -> 환경변수path -> 추가\n",
    "C:\\Users\\User\\anaconda3\n"
   ]
  },
  {
   "cell_type": "markdown",
   "metadata": {},
   "source": [
    "\n",
    "## 4. vscode powershell에서 수행\n",
    "- 4-1. conda activate base  # 가상 환경 이름이 'base'라고 가정 (or 자동생성)\n",
    "- 4-2. cd C:\\Users\\User\\scrapy_naver\n",
    "- 4-3. scrapy runspider scrapy_naver/spiders/news.py"
   ]
  }
 ],
 "metadata": {
  "language_info": {
   "name": "python"
  }
 },
 "nbformat": 4,
 "nbformat_minor": 2
}
